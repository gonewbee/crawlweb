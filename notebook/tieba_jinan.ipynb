{
 "cells": [
  {
   "cell_type": "code",
   "execution_count": 1,
   "metadata": {
    "collapsed": true
   },
   "outputs": [],
   "source": [
    "import requests\n",
    "from lxml import etree\n",
    "\n",
    "session = requests.session()"
   ]
  },
  {
   "cell_type": "code",
   "execution_count": 2,
   "metadata": {
    "collapsed": true
   },
   "outputs": [],
   "source": [
    "headers = {'User-Agent':'Mozilla/5.0 (Windows NT 6.1; WOW64) AppleWebKit/537.36 (KHTML, like Gecko) Chrome/43.0.2357.81 Safari/537.36'}"
   ]
  },
  {
   "cell_type": "code",
   "execution_count": 3,
   "metadata": {
    "collapsed": true
   },
   "outputs": [],
   "source": [
    "jinan_url = 'http://tieba.baidu.com/f?kw=%BC%C3%C4%CF&fr=ala0&tpl=5'"
   ]
  },
  {
   "cell_type": "code",
   "execution_count": 9,
   "metadata": {
    "collapsed": false
   },
   "outputs": [
    {
     "name": "stdout",
     "output_type": "stream",
     "text": [
      "ParseResult(scheme='http', netloc='tieba.baidu.com', path='/f', params='', query='kw=%BC%C3%C4%CF&fr=ala0&tpl=5', fragment='')\n"
     ]
    }
   ],
   "source": [
    "url_parse = requests.compat.urlparse(jinan_url)\n",
    "print(url_parse)"
   ]
  },
  {
   "cell_type": "code",
   "execution_count": 23,
   "metadata": {
    "collapsed": false
   },
   "outputs": [
    {
     "name": "stdout",
     "output_type": "stream",
     "text": [
      "http://tieba.baidu.com\n"
     ]
    }
   ],
   "source": [
    "base_url = url_parse.scheme + '://' + url_parse.netloc\n",
    "print(base_url)"
   ]
  },
  {
   "cell_type": "code",
   "execution_count": 4,
   "metadata": {
    "collapsed": true
   },
   "outputs": [],
   "source": [
    "r = session.get(jinan_url, headers=headers)"
   ]
  },
  {
   "cell_type": "code",
   "execution_count": 5,
   "metadata": {
    "collapsed": true
   },
   "outputs": [],
   "source": [
    "with open('jinan.html', 'wb') as f:\n",
    "    f.write(r.text.encode('utf-8'))"
   ]
  },
  {
   "cell_type": "code",
   "execution_count": 43,
   "metadata": {
    "collapsed": false
   },
   "outputs": [],
   "source": [
    "page = etree.HTML(r.text)"
   ]
  },
  {
   "cell_type": "code",
   "execution_count": 56,
   "metadata": {
    "collapsed": false
   },
   "outputs": [],
   "source": [
    "tag = page.xpath(\"//div[@class='content']\")[0]"
   ]
  },
  {
   "cell_type": "code",
   "execution_count": 59,
   "metadata": {
    "collapsed": false
   },
   "outputs": [],
   "source": [
    "page_left = tag.xpath(\".//div\")[0]"
   ]
  },
  {
   "cell_type": "code",
   "execution_count": 60,
   "metadata": {
    "collapsed": false
   },
   "outputs": [
    {
     "data": {
      "text/plain": [
       "{'id': 'pagelet_frs-base/pagelet/content'}"
      ]
     },
     "execution_count": 60,
     "metadata": {},
     "output_type": "execute_result"
    }
   ],
   "source": [
    "page_left.attrib"
   ]
  },
  {
   "cell_type": "code",
   "execution_count": 63,
   "metadata": {
    "collapsed": false
   },
   "outputs": [
    {
     "name": "stdout",
     "output_type": "stream",
     "text": [
      "\n"
     ]
    }
   ],
   "source": [
    "content_left = page_left.xpath('string()')\n",
    "print(content_left)"
   ]
  },
  {
   "cell_type": "code",
   "execution_count": 65,
   "metadata": {
    "collapsed": true
   },
   "outputs": [],
   "source": [
    "// 删除贴吧中的注释\"<!--\"\n",
    "text_remove = r.text.replace(\"<!--\", \"\")\n",
    "text_remove = text_remove.replace(\"-->\", \"\")\n",
    "with open(\"jinan_remove.html\", \"wb\") as f:\n",
    "    f.write(text_remove.encode('utf-8'))"
   ]
  },
  {
   "cell_type": "code",
   "execution_count": 66,
   "metadata": {
    "collapsed": true
   },
   "outputs": [],
   "source": [
    "page = etree.HTML(text_remove)"
   ]
  },
  {
   "cell_type": "code",
   "execution_count": 71,
   "metadata": {
    "collapsed": false
   },
   "outputs": [
    {
     "name": "stdout",
     "output_type": "stream",
     "text": [
      "50\n"
     ]
    }
   ],
   "source": [
    "tags = page.xpath(\"//ul[@id='thread_list']/li\")\n",
    "print(len(tags))"
   ]
  },
  {
   "cell_type": "code",
   "execution_count": 75,
   "metadata": {
    "collapsed": false
   },
   "outputs": [
    {
     "data": {
      "text/plain": [
       "['85',\n",
       " '今天贴吧没人吗？谁能安慰下我的心',\n",
       " '200818047',\n",
       " '4-30',\n",
       " '我骗了她，我将事情的原尾告诉了她，我们就这样形同陌路了。。。。',\n",
       " '200818047',\n",
       " '10:19']"
      ]
     },
     "execution_count": 75,
     "metadata": {},
     "output_type": "execute_result"
    }
   ],
   "source": [
    "tags[1].xpath(\"string()\").split()"
   ]
  },
  {
   "cell_type": "code",
   "execution_count": 82,
   "metadata": {
    "collapsed": false
   },
   "outputs": [
    {
     "name": "stdout",
     "output_type": "stream",
     "text": [
      "【济南吧入吧指南】\thttp://tieba.baidu.com/p/3894375147\n",
      "今天贴吧没人吗？谁能安慰下我的心\thttp://tieba.baidu.com/p/4516103088\n",
      "请问大家，在济南打车软件好不好用？哪个软件打车快一些？\thttp://tieba.baidu.com/p/4518061207\n",
      "自古至今：有权势就是合法、没权势就是违法、就有精神病\thttp://tieba.baidu.com/p/4446495194\n",
      "卖血，有收的吗？联系我1509\thttp://tieba.baidu.com/p/4517926939\n",
      "我是一个被抛弃的人\thttp://tieba.baidu.com/p/4518056081\n",
      "我妈让我面壁思过\thttp://tieba.baidu.com/p/4491763969\n",
      "世界上最着急你嫁不出去的就是爸妈\thttp://tieba.baidu.com/p/4518018063\n",
      "外地妹子来济南玩耍～\thttp://tieba.baidu.com/p/4471456082\n",
      "女生想学麦林炮手\thttp://tieba.baidu.com/p/4509126674\n",
      "谁在恒隆广场附近 我多两张电影\thttp://tieba.baidu.com/p/4518017937\n",
      "招募男妓\thttp://tieba.baidu.com/p/4518048685\n",
      "有的时候好队友就是一种运气啊\thttp://tieba.baidu.com/p/4513819754\n",
      "【济南吧】2016年4月份招聘求职发布专用帖!\thttp://tieba.baidu.com/p/4449748029\n",
      "贪心\thttp://tieba.baidu.com/p/4516364469\n",
      "他是一座岛，我是上不了岸的潮\thttp://tieba.baidu.com/p/4395974964\n",
      "说一说我在山东认识的那个女生，超不一般！\thttp://tieba.baidu.com/p/4448212352\n",
      "开帖～～记录我的点点滴滴\thttp://tieba.baidu.com/p/4480745589\n",
      "如果济吧是一个班，你最想和谁同桌\thttp://tieba.baidu.com/p/4517188596\n",
      "热的我都饶水里了\thttp://tieba.baidu.com/p/4517380433\n",
      "五一人肯定很多，想提前几天去爬泰山，这两天冷吗？能看到日出吗\thttp://tieba.baidu.com/p/4500263135\n",
      "【直播】记录我的生活日常\thttp://tieba.baidu.com/p/4477095627\n",
      "求助帖\thttp://tieba.baidu.com/p/4518056311\n",
      "有没有需要方特东方神画年卡的？按激活日起算！\thttp://tieba.baidu.com/p/4518050987\n",
      "哈哈哈\thttp://tieba.baidu.com/p/4516354216\n",
      "你把她奉做女神，她把你当成白痴！\thttp://tieba.baidu.com/p/4518052385\n",
      "刚充流量没看清楚。。\thttp://tieba.baidu.com/p/4517975037\n",
      "放弃一个暗恋很久的人是什么感觉\thttp://tieba.baidu.com/p/4515101375\n",
      "我朋友被城管围殴了\thttp://tieba.baidu.com/p/4518000632\n",
      "我是个新人\thttp://tieba.baidu.com/p/4518053837\n",
      "【求助】明天有急事要出门，请问有没有人愿意帮我养一天我的萨摩\thttp://tieba.baidu.com/p/4517175037\n",
      "歇班没地方去卧槽\thttp://tieba.baidu.com/p/4517853075\n",
      "【小新】五一出行，安全第一！\thttp://tieba.baidu.com/p/4518051878\n",
      "了解济南的进\thttp://tieba.baidu.com/p/4517856601\n",
      "关于在济南办理身份证件，有没有懂的来一下\thttp://tieba.baidu.com/p/4518007956\n",
      "下午约看电影，北京遇上西雅图不二情书，\thttp://tieba.baidu.com/p/4518049072\n",
      "不管你等级多高\thttp://tieba.baidu.com/p/4512122306\n",
      "女盆友说到时候买不起房就分手\thttp://tieba.baidu.com/p/4511667647\n",
      "几把想转行，在潍坊找个工作还挺难\thttp://tieba.baidu.com/p/4517890338\n",
      "天桥附近有招聘快递员的吗？\thttp://tieba.baidu.com/p/4518048800\n",
      "暂住证好办不，得多久办出来啊\thttp://tieba.baidu.com/p/4360205153\n",
      "中国的司机是全球素质最低的驾驶员\thttp://tieba.baidu.com/p/4517962138\n",
      "好无聊啊\thttp://tieba.baidu.com/p/4518048066\n",
      "济南铁路局工资待遇怎么样！\thttp://tieba.baidu.com/p/2839817673\n",
      "几个骑摩托的小孩子，在黄河边浪，搞得一阵烟土～\thttp://tieba.baidu.com/p/4518028791\n",
      "大神们，在济南坐汽车要不要身份证啊\thttp://tieba.baidu.com/p/4517822268\n",
      "88支5到九顶塔的人多吗？\thttp://tieba.baidu.com/p/4518045022\n",
      "本姑娘说说济南吧  不喜勿喷\thttp://tieba.baidu.com/p/4516580072\n",
      "我爱吃黑芝麻糊\thttp://tieba.baidu.com/p/4517325243\n",
      "求助\thttp://tieba.baidu.com/p/4518020135\n"
     ]
    }
   ],
   "source": [
    "for tag in tags:\n",
    "    dst = tag.xpath(\".//div[contains(@class, 'threadlist_title')]/a\")[0]\n",
    "    # print(dst.attrib)\n",
    "    print(dst.attrib['title'] + '\\t' + base_url+dst.attrib['href'])"
   ]
  },
  {
   "cell_type": "code",
   "execution_count": null,
   "metadata": {
    "collapsed": true
   },
   "outputs": [],
   "source": []
  }
 ],
 "metadata": {
  "kernelspec": {
   "display_name": "Python 3",
   "language": "python",
   "name": "python3"
  },
  "language_info": {
   "codemirror_mode": {
    "name": "ipython",
    "version": 3
   },
   "file_extension": ".py",
   "mimetype": "text/x-python",
   "name": "python",
   "nbconvert_exporter": "python",
   "pygments_lexer": "ipython3",
   "version": "3.5.0"
  }
 },
 "nbformat": 4,
 "nbformat_minor": 0
}
