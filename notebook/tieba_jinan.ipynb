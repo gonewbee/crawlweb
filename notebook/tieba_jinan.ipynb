{
 "cells": [
  {
   "cell_type": "code",
   "execution_count": 1,
   "metadata": {
    "collapsed": true
   },
   "outputs": [],
   "source": [
    "import requests\n",
    "from lxml import etree\n",
    "\n",
    "session = requests.session()"
   ]
  },
  {
   "cell_type": "code",
   "execution_count": 3,
   "metadata": {
    "collapsed": true
   },
   "outputs": [],
   "source": [
    "headers = {'User-Agent':'Mozilla/5.0 (Windows NT 6.1; WOW64) AppleWebKit/537.36 (KHTML, like Gecko) Chrome/43.0.2357.81 Safari/537.36'}"
   ]
  },
  {
   "cell_type": "code",
   "execution_count": 5,
   "metadata": {
    "collapsed": true
   },
   "outputs": [],
   "source": [
    "jinan_url = 'http://tieba.baidu.com/f?kw=%E6%B5%8E%E5%8D%97&ie=utf-8&pn=0'"
   ]
  },
  {
   "cell_type": "code",
   "execution_count": 6,
   "metadata": {
    "collapsed": false
   },
   "outputs": [
    {
     "name": "stdout",
     "output_type": "stream",
     "text": [
      "ParseResult(scheme='http', netloc='tieba.baidu.com', path='/f', params='', query='kw=%E6%B5%8E%E5%8D%97&ie=utf-8&pn=0', fragment='')\n"
     ]
    }
   ],
   "source": [
    "url_parse = requests.compat.urlparse(jinan_url)\n",
    "print(url_parse)"
   ]
  },
  {
   "cell_type": "code",
   "execution_count": 7,
   "metadata": {
    "collapsed": false
   },
   "outputs": [
    {
     "name": "stdout",
     "output_type": "stream",
     "text": [
      "http://tieba.baidu.com\n"
     ]
    }
   ],
   "source": [
    "base_url = url_parse.scheme + '://' + url_parse.netloc\n",
    "print(base_url)"
   ]
  },
  {
   "cell_type": "code",
   "execution_count": 43,
   "metadata": {
    "collapsed": true
   },
   "outputs": [],
   "source": [
    "r = session.get(jinan_url, headers=headers)"
   ]
  },
  {
   "cell_type": "code",
   "execution_count": 44,
   "metadata": {
    "collapsed": true
   },
   "outputs": [],
   "source": [
    "with open('jinan.html', 'wb') as f:\n",
    "    f.write(r.text.encode('utf-8'))"
   ]
  },
  {
   "cell_type": "code",
   "execution_count": 43,
   "metadata": {
    "collapsed": false
   },
   "outputs": [],
   "source": [
    "page = etree.HTML(r.text)"
   ]
  },
  {
   "cell_type": "code",
   "execution_count": 56,
   "metadata": {
    "collapsed": false
   },
   "outputs": [],
   "source": [
    "tag = page.xpath(\"//div[@class='content']\")[0]"
   ]
  },
  {
   "cell_type": "code",
   "execution_count": 59,
   "metadata": {
    "collapsed": false
   },
   "outputs": [],
   "source": [
    "page_left = tag.xpath(\".//div\")[0]"
   ]
  },
  {
   "cell_type": "code",
   "execution_count": 60,
   "metadata": {
    "collapsed": false
   },
   "outputs": [
    {
     "data": {
      "text/plain": [
       "{'id': 'pagelet_frs-base/pagelet/content'}"
      ]
     },
     "execution_count": 60,
     "metadata": {},
     "output_type": "execute_result"
    }
   ],
   "source": [
    "page_left.attrib"
   ]
  },
  {
   "cell_type": "code",
   "execution_count": 63,
   "metadata": {
    "collapsed": false
   },
   "outputs": [
    {
     "name": "stdout",
     "output_type": "stream",
     "text": [
      "\n"
     ]
    }
   ],
   "source": [
    "content_left = page_left.xpath('string()')\n",
    "print(content_left)"
   ]
  },
  {
   "cell_type": "code",
   "execution_count": 45,
   "metadata": {
    "collapsed": false
   },
   "outputs": [],
   "source": [
    "# 删除贴吧中的注释\"<!--\"\n",
    "text_remove = r.text.replace(\"<!--\", \"\")\n",
    "text_remove = text_remove.replace(\"-->\", \"\")\n",
    "with open(\"jinan_remove.html\", \"wb\") as f:\n",
    "    f.write(text_remove.encode('utf-8'))"
   ]
  },
  {
   "cell_type": "code",
   "execution_count": 46,
   "metadata": {
    "collapsed": true
   },
   "outputs": [],
   "source": [
    "page = etree.HTML(text_remove)"
   ]
  },
  {
   "cell_type": "code",
   "execution_count": 50,
   "metadata": {
    "collapsed": false
   },
   "outputs": [
    {
     "name": "stdout",
     "output_type": "stream",
     "text": [
      "50\n"
     ]
    }
   ],
   "source": [
    "ul_ele = page.find(\".//ul[@id='thread_list']\")\n",
    "li_eles = ul_ele.xpath(\".//li[contains(@class, 'j_thread_list')]\")\n",
    "print(len(li_eles))"
   ]
  },
  {
   "cell_type": "code",
   "execution_count": 51,
   "metadata": {
    "collapsed": false
   },
   "outputs": [
    {
     "name": "stdout",
     "output_type": "stream",
     "text": [
      "【济南吧入吧指南】\thttp://tieba.baidu.com/p/3894375147\n",
      "有没有168+ 驾驭的了12公分高跟鞋的美女？\thttp://tieba.baidu.com/p/4518417459\n",
      "世界上最悲惨的事情就是，午餐，没肉。\thttp://tieba.baidu.com/p/4518389880\n",
      "五一人肯定很多，想提前几天去爬泰山，这两天冷吗？能看到日出吗\thttp://tieba.baidu.com/p/4500263135\n",
      "说一说我在山东认识的那个女生，超不一般！\thttp://tieba.baidu.com/p/4448212352\n",
      "支付宝充了三十块到了  QQ充的十块却没有到账\thttp://tieba.baidu.com/p/4517872548\n",
      "卧槽，今天真郁闷\thttp://tieba.baidu.com/p/4517356550\n",
      "热爆了，我的天呐～\thttp://tieba.baidu.com/p/4518211494\n",
      "今天我装了一个逼大家能给几分\thttp://tieba.baidu.com/p/4517785262\n",
      "济南那里修手机比较好\thttp://tieba.baidu.com/p/4518419369\n",
      "无聊，有聊天的没\thttp://tieba.baidu.com/p/4518411336\n",
      "昨晚在搜狐新闻抢了个12.88的红包\thttp://tieba.baidu.com/p/4516170374\n",
      "五一断网是什么鬼？\thttp://tieba.baidu.com/p/4518419168\n",
      "讽刺\thttp://tieba.baidu.com/p/4518084272\n",
      "讲讲我这个穷二代闯荡社会的一些感悟 脱贫致富\thttp://tieba.baidu.com/p/4511834142\n",
      "急！急！急！快教我怎么装比！\thttp://tieba.baidu.com/p/4518396719\n",
      "还是决定来济南了……\thttp://tieba.baidu.com/p/4517228179\n",
      "济南老火车站还是挺有历史味道的。。。可惜了。。。\thttp://tieba.baidu.com/p/4518410291\n",
      "我想宣传我的征婚群\thttp://tieba.baidu.com/p/4518222899\n",
      "浮华看尽，品百味人生，红尘初窥，识夜场江湖\thttp://tieba.baidu.com/p/4518404205\n",
      "路这么堵 真他妹想把车炸了\thttp://tieba.baidu.com/p/4515911710\n",
      "让不让外地活了\thttp://tieba.baidu.com/p/4248875158\n",
      "我想要一只小狗狗🐶\thttp://tieba.baidu.com/p/4515348136\n",
      "济南奥体中心主任什么级别\thttp://tieba.baidu.com/p/4518414322\n",
      "【济南吧】2016年4月份招聘求职发布专用帖!\thttp://tieba.baidu.com/p/4449748029\n",
      "世贸购物广场举行大型摩托车展呢\thttp://tieba.baidu.com/p/4518097962\n",
      "咱们去逛动物园啊！\thttp://tieba.baidu.com/p/4518407997\n",
      "山东济南商会商务运作五级三阶制是传销吗？\thttp://tieba.baidu.com/p/4518173960\n",
      "你们五一节三天咋个耍呀\thttp://tieba.baidu.com/p/4516031960\n",
      "谁在恒隆广场附近 我多两张电影\thttp://tieba.baidu.com/p/4518017937\n",
      "都来看土豆开花咧！！！\thttp://tieba.baidu.com/p/4517948428\n",
      "济南洛口批发中童、大童服装的地方有那几个？\thttp://tieba.baidu.com/p/4514295873\n",
      "这天\thttp://tieba.baidu.com/p/4518150591\n",
      "汇鲁黑中介\thttp://tieba.baidu.com/p/4025013797\n",
      "济南哪个医院看烫伤比较好？\thttp://tieba.baidu.com/p/3125433709\n",
      "想问下大明湖和趵突泉开门和关门的时间\thttp://tieba.baidu.com/p/4518405216\n",
      "济南汇鲁房地产公司怎么样阿，\thttp://tieba.baidu.com/p/4375190716\n",
      "最近有买新车的吗，快放新号了\thttp://tieba.baidu.com/p/4518408402\n",
      "想要表情的进。\thttp://tieba.baidu.com/p/4518206573\n",
      "济南比青岛差太多，要么青岛直辖，要么把省会给青岛\thttp://tieba.baidu.com/p/4512074445\n",
      "求泌尿宁胶囊锄根牌子的一盒多少钱\thttp://tieba.baidu.com/p/4518403045\n",
      "北湖拆迁！北园水屯村村民的心声！\thttp://tieba.baidu.com/p/4417337855\n",
      "济南做飘眉有什么风险吗？对身体有伤害吗？\thttp://tieba.baidu.com/p/4518401438\n",
      "来来来，看看我的猪爪\thttp://tieba.baidu.com/p/4516711842\n",
      "传统技艺与现代技术结合，年入十几万不是问题\thttp://tieba.baidu.com/p/4509201213\n",
      "渣男真多\thttp://tieba.baidu.com/p/4507023894\n",
      "济南看权利的游戏的小伙伴有吗，举个抓\thttp://tieba.baidu.com/p/4518219581\n",
      "猜猜这是么\thttp://tieba.baidu.com/p/4518216819\n",
      "还不快聘\thttp://tieba.baidu.com/p/4518309355\n",
      "我朋友被城管围殴了\thttp://tieba.baidu.com/p/4518000632\n"
     ]
    }
   ],
   "source": [
    "for li_ele in li_eles:\n",
    "    dsts = li_ele.xpath(\".//div[contains(@class, 'threadlist_title')]/a\")\n",
    "    if len(dsts) > 0:\n",
    "        dst = dsts[0]\n",
    "        print(dst.attrib['title'] + '\\t' + base_url+dst.attrib['href'])"
   ]
  },
  {
   "cell_type": "code",
   "execution_count": 20,
   "metadata": {
    "collapsed": false
   },
   "outputs": [
    {
     "name": "stdout",
     "output_type": "stream",
     "text": [
      "27\n"
     ]
    }
   ],
   "source": [
    "tags = page.xpath(\"//ul[@id='thread_list']/li\")\n",
    "print(len(tags))"
   ]
  },
  {
   "cell_type": "code",
   "execution_count": 15,
   "metadata": {
    "collapsed": false
   },
   "outputs": [
    {
     "data": {
      "text/plain": [
       "['10',\n",
       " '我也想去…张家界…',\n",
       " '宝宝委屈…',\n",
       " '鐖卞疂瀹濔煉',\n",
       " '00:28',\n",
       " '我也想去…张家界…',\n",
       " '宝宝委屈…但宝宝不说😂',\n",
       " '共',\n",
       " '5',\n",
       " '张',\n",
       " 'whydow',\n",
       " '13:26']"
      ]
     },
     "execution_count": 15,
     "metadata": {},
     "output_type": "execute_result"
    }
   ],
   "source": [
    "tags[1].xpath(\"string()\").split()"
   ]
  },
  {
   "cell_type": "code",
   "execution_count": 16,
   "metadata": {
    "collapsed": false
   },
   "outputs": [
    {
     "name": "stdout",
     "output_type": "stream",
     "text": [
      "【济南吧入吧指南】\thttp://tieba.baidu.com/p/3894375147\n",
      "我也想去…张家界… 宝宝委屈…\thttp://tieba.baidu.com/p/4517572511\n",
      "希望你能看到\thttp://tieba.baidu.com/p/4517548313\n",
      "支付宝充了三十块到了  QQ充的十块却没有到账\thttp://tieba.baidu.com/p/4517872548\n",
      "新定的房子不想要了，押金好退吗\thttp://tieba.baidu.com/p/4516731124\n",
      "如果济吧是一个班，你最想和谁同桌\thttp://tieba.baidu.com/p/4517188596\n",
      "贱人！！\thttp://tieba.baidu.com/p/4517938102\n",
      "五一人肯定很多，想提前几天去爬泰山，这两天冷吗？能看到日出吗\thttp://tieba.baidu.com/p/4500263135\n",
      "济南看权利的游戏的小伙伴有吗，举个抓\thttp://tieba.baidu.com/p/4518219581\n",
      "讲讲我这个穷二代闯荡社会的一些感悟 脱贫致富\thttp://tieba.baidu.com/p/4511834142\n",
      "想问一下吧友有没有被山东汇鲁房产骗过的？\thttp://tieba.baidu.com/p/4450040280\n",
      "不曾想过万人追捧，只望有人一生待我如初\thttp://tieba.baidu.com/p/4513455078\n",
      "本姑娘说说济南吧  不喜勿喷\thttp://tieba.baidu.com/p/4516580072\n",
      "讽刺\thttp://tieba.baidu.com/p/4518084272\n",
      "这个小区是哪里？\thttp://tieba.baidu.com/p/4518182016\n",
      "求助帖济南哪里有工厂折扣店阿迪耐克李宁都行\thttp://tieba.baidu.com/p/4518123943\n",
      "猜猜。。。\thttp://tieba.baidu.com/p/4518192053\n",
      "昨晚在搜狐新闻抢了个12.88的红包\thttp://tieba.baidu.com/p/4516170374\n",
      "女同\thttp://tieba.baidu.com/p/4518328444\n",
      "渣男真多\thttp://tieba.baidu.com/p/4507023894\n",
      "谁认识交通或者中信银行办理信用卡的啊\thttp://tieba.baidu.com/p/4500162856\n",
      "济南农村建平房，大包报价多少？\thttp://tieba.baidu.com/p/4518354827\n",
      "济南的妹子汉子，抽到的就要交往三天，敢玩的进来吧，她的Leo，\thttp://tieba.baidu.com/p/4518355924\n",
      "还不快聘\thttp://tieba.baidu.com/p/4518309355\n",
      "世界上最着急你嫁不出去的就是爸妈\thttp://tieba.baidu.com/p/4518018063\n",
      "有种放假叫别人放假\thttp://tieba.baidu.com/p/4518329985\n",
      "咋回事，？\thttp://tieba.baidu.com/p/4484634234\n"
     ]
    }
   ],
   "source": [
    "for tag in tags:\n",
    "    dst = tag.xpath(\".//div[contains(@class, 'threadlist_title')]/a\")[0]\n",
    "    # print(dst.attrib)\n",
    "    print(dst.attrib['title'] + '\\t' + base_url+dst.attrib['href'])"
   ]
  },
  {
   "cell_type": "code",
   "execution_count": 37,
   "metadata": {
    "collapsed": false
   },
   "outputs": [
    {
     "name": "stdout",
     "output_type": "stream",
     "text": [
      "http://tieba.baidu.com/f?pn=0&kw=%E6%B5%8E%E5%8D%97&ie=utf-8\n"
     ]
    }
   ],
   "source": [
    "params = {'kw': '济南', 'ie':'utf-8', 'pn':'0'}\n",
    "jinan_url = 'http://tieba.baidu.com/f?' + requests.compat.urlencode(params)\n",
    "print(jinan_url)"
   ]
  },
  {
   "cell_type": "code",
   "execution_count": 1,
   "metadata": {
    "collapsed": true
   },
   "outputs": [],
   "source": [
    "import requests\n",
    "from lxml import etree\n",
    "\n",
    "session = requests.session()"
   ]
  },
  {
   "cell_type": "code",
   "execution_count": 2,
   "metadata": {
    "collapsed": true
   },
   "outputs": [],
   "source": [
    "from selenium import webdriver"
   ]
  },
  {
   "cell_type": "code",
   "execution_count": 3,
   "metadata": {
    "collapsed": true
   },
   "outputs": [],
   "source": [
    "headers = {'User-Agent':'Mozilla/5.0 (Windows NT 6.1; WOW64) AppleWebKit/537.36 (KHTML, like Gecko) Chrome/43.0.2357.81 Safari/537.36'}"
   ]
  },
  {
   "cell_type": "code",
   "execution_count": 4,
   "metadata": {
    "collapsed": true
   },
   "outputs": [],
   "source": [
    "tieba_url = 'http://tieba.baidu.com/f?kw=济南&ie=utf-8&pn=0'"
   ]
  },
  {
   "cell_type": "code",
   "execution_count": 5,
   "metadata": {
    "collapsed": true
   },
   "outputs": [],
   "source": [
    "driver = webdriver.Chrome()"
   ]
  },
  {
   "cell_type": "code",
   "execution_count": 6,
   "metadata": {
    "collapsed": true
   },
   "outputs": [],
   "source": [
    "driver.get(tieba_url)"
   ]
  },
  {
   "cell_type": "code",
   "execution_count": 7,
   "metadata": {
    "collapsed": true
   },
   "outputs": [],
   "source": [
    "cookies_list = driver.get_cookies()"
   ]
  },
  {
   "cell_type": "code",
   "execution_count": 9,
   "metadata": {
    "collapsed": false
   },
   "outputs": [
    {
     "name": "stdout",
     "output_type": "stream",
     "text": [
      "8\n"
     ]
    }
   ],
   "source": [
    "cookies = {}\n",
    "for cookie in cookies_list:\n",
    "    cookies[cookie['name']] = cookie['value']\n",
    "print(len(cookies))"
   ]
  },
  {
   "cell_type": "code",
   "execution_count": 10,
   "metadata": {
    "collapsed": true
   },
   "outputs": [],
   "source": [
    "session.cookies.update(cookies)\n",
    "session.headers.update(headers)"
   ]
  },
  {
   "cell_type": "code",
   "execution_count": 11,
   "metadata": {
    "collapsed": true
   },
   "outputs": [],
   "source": [
    "r = session.get(tieba_url)"
   ]
  },
  {
   "cell_type": "code",
   "execution_count": 12,
   "metadata": {
    "collapsed": true
   },
   "outputs": [],
   "source": [
    "with open('tieba.html', 'wb') as f:\n",
    "    f.write(r.text.encode('utf-8'))"
   ]
  },
  {
   "cell_type": "code",
   "execution_count": 13,
   "metadata": {
    "collapsed": true
   },
   "outputs": [],
   "source": [
    "driver.quit()"
   ]
  },
  {
   "cell_type": "code",
   "execution_count": 17,
   "metadata": {
    "collapsed": true
   },
   "outputs": [],
   "source": [
    "# 删除贴吧中的注释\"<!--\"\n",
    "text_remove = r.text.replace(\"<!--\", \"\")\n",
    "text_remove = text_remove.replace(\"-->\", \"\")\n",
    "page = etree.HTML(text_remove)"
   ]
  },
  {
   "cell_type": "code",
   "execution_count": 20,
   "metadata": {
    "collapsed": false
   },
   "outputs": [
    {
     "name": "stdout",
     "output_type": "stream",
     "text": [
      "50\n",
      "【济南吧入吧指南】\thttp://tieba.baidu.com/p/3894375147\n",
      "5.20到了，给大家分享些适合恋人看的电影\thttp://tieba.baidu.com/p/4558705411\n",
      "大腿上长了个猴子。\thttp://tieba.baidu.com/p/4556594729\n",
      "我就看看今天有多少表白的\thttp://tieba.baidu.com/p/4558662525\n",
      "本姑娘要去济南，打下一片天下\thttp://tieba.baidu.com/p/4557967649\n",
      "愿。\thttp://tieba.baidu.com/p/4558732057\n",
      "听说经常吃酸奶，不会长胖，是不是真的，求指点\thttp://tieba.baidu.com/p/4509832962\n",
      "你们一天吃饭都花多钱啊？\thttp://tieba.baidu.com/p/4555038147\n",
      "南部山区哪里自己烧烤比较好\thttp://tieba.baidu.com/p/4558814525\n",
      "谁有学生妹的联系方式，私一下\thttp://tieba.baidu.com/p/4558827328\n",
      "哈哈哈哈哈哈哈哼嘿哈\thttp://tieba.baidu.com/p/4558825979\n",
      "第一次希望自己可以不那么优秀\thttp://tieba.baidu.com/p/4557438494\n",
      "包场辣\thttp://tieba.baidu.com/p/4557962718\n",
      "给爸爸爷爷挑礼物  先给自己买了双脱鞋\thttp://tieba.baidu.com/p/4557883606\n",
      "贵州朋友送来的礼物\thttp://tieba.baidu.com/p/4513982146\n",
      "今天有约的吗？\thttp://tieba.baidu.com/p/4558771173\n",
      "问下  除了哪些旅游景点 济南\thttp://tieba.baidu.com/p/4558741785\n",
      "讲讲我这个穷二代闯荡社会的一些感悟 脱贫致富\thttp://tieba.baidu.com/p/4555597765\n",
      "步步小公举去哪了\thttp://tieba.baidu.com/p/4558811160\n",
      "还是一个人，没人陪的520～\thttp://tieba.baidu.com/p/4558652140\n",
      "济南哪个药店有卖海娜花粉\thttp://tieba.baidu.com/p/4558824915\n",
      "外地人求助哪个医院好些\thttp://tieba.baidu.com/p/4558805630\n",
      "好想找个男朋友呀\thttp://tieba.baidu.com/p/4557350505\n",
      "求助！以前的济南职工大学现在变成哪所学校了？想查学员档案。\thttp://tieba.baidu.com/p/4558822598\n",
      "520有约我的吗？\thttp://tieba.baidu.com/p/4558798118\n",
      "哪位有心人看看这个理发店是哪里急急急\thttp://tieba.baidu.com/p/4558821599\n",
      "说一说我在山东认识的那个女生，超不一般！\thttp://tieba.baidu.com/p/4448212352\n",
      "每周一约的时间又到辣\thttp://tieba.baidu.com/p/4558624447\n",
      "着急，济南科目四在哪里考，只知道在济南西大杨庄附近\thttp://tieba.baidu.com/p/4558710840\n",
      "求扩散！太不公平了！\thttp://tieba.baidu.com/p/4558818052\n",
      "五莲县原电视大楼到百货大楼多远?\thttp://tieba.baidu.com/p/4558817267\n",
      "哪有卖那种旅行装的洗漱用品的\thttp://tieba.baidu.com/p/4558596504\n",
      "三国时期第一谋士，你们觉得是谁\thttp://tieba.baidu.com/p/4558803362\n",
      "今天微信红包能发520\thttp://tieba.baidu.com/p/4558781539\n",
      "如果你是第一次去丽江,一定要注意这些事！\thttp://tieba.baidu.com/p/4520722454\n",
      "有人认识一个叫温亚茹的女生吗？\thttp://tieba.baidu.com/p/4558317090\n",
      "（仙家占卜婚姻财运事业）\thttp://tieba.baidu.com/p/4558813430\n",
      "济南堤口路城管崔华阳恶意伤人，打伤我家人。\thttp://tieba.baidu.com/p/4558186358\n",
      "直播--我当道士那些年为人做的法事\thttp://tieba.baidu.com/p/4557849242\n",
      "明天就是520了，你们要怎么过\thttp://tieba.baidu.com/p/4558196903\n",
      "（转)细数内涵吧丧尸语录 TOP10..如果你秒懂，那你是大神\thttp://tieba.baidu.com/p/4558811884\n",
      "记忆中的泉城\thttp://tieba.baidu.com/p/4556331453\n",
      "少了不少吧友啊\thttp://tieba.baidu.com/p/4558779548\n",
      "马云哭了，\thttp://tieba.baidu.com/p/4556948315\n",
      "寻投资项目\thttp://tieba.baidu.com/p/4557420039\n",
      "济南彩石镇有没有电动车快速充电站\thttp://tieba.baidu.com/p/4558807131\n",
      "520不快乐\thttp://tieba.baidu.com/p/4558454779\n",
      "今天我生日\thttp://tieba.baidu.com/p/4558723094\n",
      "请教一下关注兴业银行信用卡问题\thttp://tieba.baidu.com/p/4313037172\n",
      "手贱查个违章\thttp://tieba.baidu.com/p/4557434163\n"
     ]
    }
   ],
   "source": [
    "base_url = 'http://tieba.baidu.com'\n",
    "ul_ele = page.find(\".//ul[@id='thread_list']\")\n",
    "li_eles = ul_ele.xpath(\".//li[contains(@class, 'j_thread_list')]\")\n",
    "print(len(li_eles))\n",
    "for li_ele in li_eles:\n",
    "    dsts = li_ele.xpath(\".//div[contains(@class, 'threadlist_title')]/a\")\n",
    "    if len(dsts) > 0:\n",
    "        dst = dsts[0]\n",
    "        print(dst.attrib['title'] + '\\t' + base_url+dst.attrib['href'])"
   ]
  },
  {
   "cell_type": "code",
   "execution_count": null,
   "metadata": {
    "collapsed": true
   },
   "outputs": [],
   "source": []
  }
 ],
 "metadata": {
  "kernelspec": {
   "display_name": "Python 3",
   "language": "python",
   "name": "python3"
  },
  "language_info": {
   "codemirror_mode": {
    "name": "ipython",
    "version": 3
   },
   "file_extension": ".py",
   "mimetype": "text/x-python",
   "name": "python",
   "nbconvert_exporter": "python",
   "pygments_lexer": "ipython3",
   "version": "3.5.1"
  }
 },
 "nbformat": 4,
 "nbformat_minor": 0
}
