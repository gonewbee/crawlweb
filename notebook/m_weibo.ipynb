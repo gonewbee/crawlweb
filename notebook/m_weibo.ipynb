{
 "cells": [
  {
   "cell_type": "code",
   "execution_count": 1,
   "metadata": {
    "collapsed": true
   },
   "outputs": [],
   "source": [
    "import requests\n",
    "from lxml import etree\n",
    "\n",
    "session = requests.session()"
   ]
  },
  {
   "cell_type": "code",
   "execution_count": 2,
   "metadata": {
    "collapsed": false
   },
   "outputs": [
    {
     "data": {
      "text/plain": [
       "{'User-Agent': 'python-requests/2.8.1', 'Connection': 'keep-alive', 'Accept': '*/*', 'Accept-Encoding': 'gzip, deflate'}"
      ]
     },
     "execution_count": 2,
     "metadata": {},
     "output_type": "execute_result"
    }
   ],
   "source": [
    "session.headers"
   ]
  },
  {
   "cell_type": "code",
   "execution_count": 3,
   "metadata": {
    "collapsed": false
   },
   "outputs": [
    {
     "name": "stdout",
     "output_type": "stream",
     "text": [
      "{'User-Agent': 'Mozilla/5.0 (Linux; U; Android 4.4.2; zh-CN; H30-U10 Build/HuaweiH30-U10) AppleWebKit/534.30 (KHTML, like Gecko) Version/4.0 UCBrowser/10.9.8.738 U3/0.8.0 Mobile Safari/534.30', 'Connection': 'keep-alive', 'Accept': '*/*', 'Accept-Encoding': 'gzip, deflate'}\n"
     ]
    }
   ],
   "source": [
    "# UC浏览器\n",
    "headers = {'User-Agent': 'Mozilla/5.0 (Linux; U; Android 4.4.2; zh-CN; H30-U10 Build/HuaweiH30-U10) AppleWebKit/534.30 (KHTML, like Gecko) Version/4.0 UCBrowser/10.9.8.738 U3/0.8.0 Mobile Safari/534.30'}\n",
    "session.headers.update(headers)\n",
    "print(session.headers)"
   ]
  },
  {
   "cell_type": "code",
   "execution_count": 4,
   "metadata": {
    "collapsed": false
   },
   "outputs": [
    {
     "name": "stdout",
     "output_type": "stream",
     "text": [
      "{'M_WEIBOCN_PARAMS': 'luicode%3D20000174%26uicode%3D20000174', 'SUB': '_2A256IzafDeTxGeNL6lAT8yzNzTWIHXVZ7FrXrDV6PUJbrdAKLVfFkW1LHes0saA90OPwrYtvdnQ8bTJw7Ja_FQ..', '_T_WM': 'c771e534c6cfd0f743ff185b71d38db2', 'h5_deviceID': 'a95f3b10788948dc3507097c7a235b96', 'browser': 'd2VpYm9mYXhpYW4%3D', 'gsid_CTandWM': '4uGbCpOz5mk3jTdOuq0XOn7YY2J', 'SUHB': '0FQ7RydmFrjKrf'}\n"
     ]
    }
   ],
   "source": [
    "import json\n",
    "cookies = {}\n",
    "with open('m_weibo.json', 'r') as f:\n",
    "    cookies = json.load(f)\n",
    "print(cookies)"
   ]
  },
  {
   "cell_type": "code",
   "execution_count": 5,
   "metadata": {
    "collapsed": false
   },
   "outputs": [
    {
     "data": {
      "text/plain": [
       "<RequestsCookieJar[]>"
      ]
     },
     "execution_count": 5,
     "metadata": {},
     "output_type": "execute_result"
    }
   ],
   "source": [
    "session.cookies"
   ]
  },
  {
   "cell_type": "code",
   "execution_count": 6,
   "metadata": {
    "collapsed": false
   },
   "outputs": [
    {
     "name": "stdout",
     "output_type": "stream",
     "text": [
      "<RequestsCookieJar[<Cookie M_WEIBOCN_PARAMS=luicode%3D20000174%26uicode%3D20000174 for />, <Cookie SUB=_2A256IzafDeTxGeNL6lAT8yzNzTWIHXVZ7FrXrDV6PUJbrdAKLVfFkW1LHes0saA90OPwrYtvdnQ8bTJw7Ja_FQ.. for />, <Cookie SUHB=0FQ7RydmFrjKrf for />, <Cookie _T_WM=c771e534c6cfd0f743ff185b71d38db2 for />, <Cookie browser=d2VpYm9mYXhpYW4%3D for />, <Cookie gsid_CTandWM=4uGbCpOz5mk3jTdOuq0XOn7YY2J for />, <Cookie h5_deviceID=a95f3b10788948dc3507097c7a235b96 for />]>\n"
     ]
    }
   ],
   "source": [
    "session.cookies.update(cookies)\n",
    "print(session.cookies)"
   ]
  },
  {
   "cell_type": "code",
   "execution_count": 7,
   "metadata": {
    "collapsed": true
   },
   "outputs": [],
   "source": [
    "m_weibo_url = 'http://m.weibo.cn/index/feed?format=cards'"
   ]
  },
  {
   "cell_type": "code",
   "execution_count": 36,
   "metadata": {
    "collapsed": false
   },
   "outputs": [
    {
     "name": "stdout",
     "output_type": "stream",
     "text": [
      "200\n"
     ]
    }
   ],
   "source": [
    "r = session.get(m_weibo_url)\n",
    "print(r.status_code)"
   ]
  },
  {
   "cell_type": "code",
   "execution_count": 39,
   "metadata": {
    "collapsed": false
   },
   "outputs": [],
   "source": [
    "with open('m_weibo.html', 'wb') as f:\n",
    "    f.write(r.text.encode('utf-8'))"
   ]
  },
  {
   "cell_type": "code",
   "execution_count": 14,
   "metadata": {
    "collapsed": false
   },
   "outputs": [
    {
     "data": {
      "text/plain": [
       "{'PROC_NODE': 'web037.mweibo.xd.sinanode.com', 'Server': 'Tengine', 'Vary': 'Accept-Encoding', 'Connection': 'close', 'SINA-LB': 'aGEuMTg1LmcxLnRjLmxiLnNpbmFub2RlLmNvbQ==', 'Content-Encoding': 'gzip', 'Date': 'Mon, 02 May 2016 12:50:17 GMT', 'X-Powered-By': 'PHP/5.4.41', 'Transfer-Encoding': 'chunked', 'X-Log-Uid': '5512232169', 'Content-Type': 'application/json', 'SINA-TS': 'MmJmNmMzNjggMCAwIDAgMTIgMTE5Cg=='}"
      ]
     },
     "execution_count": 14,
     "metadata": {},
     "output_type": "execute_result"
    }
   ],
   "source": [
    "r.headers"
   ]
  },
  {
   "cell_type": "code",
   "execution_count": 34,
   "metadata": {
    "collapsed": false
   },
   "outputs": [
    {
     "name": "stdout",
     "output_type": "stream",
     "text": [
      "200\n"
     ]
    }
   ],
   "source": [
    "r = session.get('http://m.weibo.cn')\n",
    "print(r.status_code)"
   ]
  },
  {
   "cell_type": "code",
   "execution_count": 35,
   "metadata": {
    "collapsed": true
   },
   "outputs": [],
   "source": [
    "with open('m_weibo.html', 'wb') as f:\n",
    "    f.write(r.text.encode('utf-8'))"
   ]
  },
  {
   "cell_type": "code",
   "execution_count": null,
   "metadata": {
    "collapsed": true
   },
   "outputs": [],
   "source": []
  }
 ],
 "metadata": {
  "kernelspec": {
   "display_name": "Python 3",
   "language": "python",
   "name": "python3"
  },
  "language_info": {
   "codemirror_mode": {
    "name": "ipython",
    "version": 3
   },
   "file_extension": ".py",
   "mimetype": "text/x-python",
   "name": "python",
   "nbconvert_exporter": "python",
   "pygments_lexer": "ipython3",
   "version": "3.5.0"
  }
 },
 "nbformat": 4,
 "nbformat_minor": 0
}
