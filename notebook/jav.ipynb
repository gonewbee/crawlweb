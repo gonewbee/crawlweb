{
 "cells": [
  {
   "cell_type": "code",
   "execution_count": 1,
   "metadata": {
    "collapsed": true
   },
   "outputs": [],
   "source": [
    "import requests\n",
    "from lxml import etree"
   ]
  },
  {
   "cell_type": "code",
   "execution_count": 26,
   "metadata": {
    "collapsed": false
   },
   "outputs": [
    {
     "name": "stdout",
     "output_type": "stream",
     "text": [
      "file_path:D:\\workspace\\python\\crawlweb\\notebook\\config.json\n",
      "http://www.javlibrary.com/cn\n",
      "jav_base_url:http://www.javlibrary.com/cn\n"
     ]
    }
   ],
   "source": [
    "import os\n",
    "import json\n",
    "file_path = os.getcwd()\n",
    "file_path = os.path.join(file_path, \"config.json\")\n",
    "print('file_path:' + file_path)\n",
    "jav_base_url = \"\"\n",
    "if not os.path.exists(file_path):\n",
    "    jav_base_url = input()\n",
    "    config = {'base_url': jav_base_url}\n",
    "    with open(file_path, 'w') as f:\n",
    "        json.dump(config, f)\n",
    "else:\n",
    "    with open(file_path, 'r') as f:\n",
    "        data = json.load(f)\n",
    "        jav_base_url = data['base_url']\n",
    "print('jav_base_url:' + jav_base_url)"
   ]
  },
  {
   "cell_type": "code",
   "execution_count": 16,
   "metadata": {
    "collapsed": true
   },
   "outputs": [],
   "source": [
    "headers = {'User-Agent':'Mozilla/5.0 (Windows NT 6.1; WOW64) AppleWebKit/537.36 (KHTML, like Gecko) Chrome/43.0.2357.81 Safari/537.36'}\n",
    "# 设置代理\n",
    "proxies = {'http':'127.0.0.1:8087'}"
   ]
  },
  {
   "cell_type": "code",
   "execution_count": 12,
   "metadata": {
    "collapsed": true
   },
   "outputs": [],
   "source": [
    "session = requests.session()"
   ]
  },
  {
   "cell_type": "code",
   "execution_count": 27,
   "metadata": {
    "collapsed": true
   },
   "outputs": [],
   "source": [
    "jav_mostwanted_url = jav_base_url +  '/vl_mostwanted.php'"
   ]
  },
  {
   "cell_type": "code",
   "execution_count": 28,
   "metadata": {
    "collapsed": false
   },
   "outputs": [],
   "source": [
    "r = session.get(jav_url, headers=headers, proxies=proxies)"
   ]
  },
  {
   "cell_type": "code",
   "execution_count": 29,
   "metadata": {
    "collapsed": true
   },
   "outputs": [],
   "source": [
    "with open('jav.html', 'wb') as f:\n",
    "    f.write(r.text.encode('utf-8'))"
   ]
  },
  {
   "cell_type": "code",
   "execution_count": 30,
   "metadata": {
    "collapsed": true
   },
   "outputs": [],
   "source": [
    "page = etree.HTML(r.text)"
   ]
  },
  {
   "cell_type": "code",
   "execution_count": 40,
   "metadata": {
    "collapsed": false
   },
   "outputs": [
    {
     "name": "stdout",
     "output_type": "stream",
     "text": [
      "D:\\workspace\\python\\crawlweb\\notebook\\tmp\n",
      "{'title': 'EBOD-506 E-BODY再光臨 JULIAイカセ究極美ボディ絶叫トランス性交', 'href': './?v=javliljvri'}\n",
      "{'title': 'SNIS-636 完全固定されて身動きが取れない 葵 腰がガクガク砕けるまでイッてもイッても止めない無限ピストンSEX', 'href': './?v=javlilip2q'}\n",
      "{'title': 'ABP-454 僕と瑞穂の甘過ぎる社内恋愛SEXライフ 上原瑞穂', 'href': './?v=javlili7ra'}\n",
      "{'title': 'ABP-462 絶頂ランジェリーナ 14 若菜奈央', 'href': './?v=javlilib2m'}\n",
      "{'title': 'STAR-668 古川いおり 超高級ナマ中出し輪姦倶楽部', 'href': './?v=javlilipsa'}\n",
      "{'title': 'MIDE-329 ショタチンが大好きみのり先生 初音みのり', 'href': './?v=javliljf6m'}\n",
      "{'title': 'ABP-469 鈴村あいり なまなかだし', 'href': './?v=javlilje4i'}\n",
      "{'title': 'ABP-458 僕とあいりの甘過ぎる社内恋愛SEXライフ', 'href': './?v=javlilib3m'}\n",
      "{'title': 'LXVS-001 ラグジュTV×PRESTIGE SELECTION 01（ブルーレイディスク） 望月さくら', 'href': './?v=javliljd64'}\n",
      "{'title': 'SW-390 夢の女子社員たちの部署で僕一人！黒パンスト透けパンチラに勃起してたら6人の先輩におチ●ポたっぷり可愛いがられキン●マすっからかん！', 'href': './?v=javliliy4a'}\n",
      "{'title': 'SNIS-640 超高級Jcup風俗嬢 RION', 'href': './?v=javliljy6e'}\n",
      "{'title': 'HUNTA-141 息子の家庭教師が理想のボインちゃん！息子の家庭教師（巨乳）に日々悶々としていた父親の私は、息子に睡眠薬を、家庭教師には媚薬を…。すると…全身に媚薬が回った家庭教師は寝ている息子のチ○ポにしゃぶりつく超変貌っぷり！我慢できなくなった…', 'href': './?v=javlilj33a'}\n",
      "{'title': 'ABP-471 絶頂ランジェリーナ 16 結菜えま', 'href': './?v=javlilje4y'}\n",
      "{'title': 'TEK-076 アイドルがご奉仕してくれる最高級5つ星ソープランド 三上悠亜', 'href': './?v=javliljfqe'}\n",
      "{'title': 'EYAN-061 むっちむち美巨尻に超タイトスカート！人妻生保レディの誘惑枕営業 桃瀬友梨奈', 'href': './?v=javliljvry'}\n",
      "{'title': 'TEK-073 ボクのカノジョは三上悠亜', 'href': './?v=javlilieri'}\n",
      "{'title': 'MIAD-898 102発350mlの精子を全てまとめてごっくん 浜崎真緒', 'href': './?v=javliljv7q'}\n",
      "{'title': 'SNIS-642 交わる体液、濃密セックス 葵つかさ', 'href': './?v=javliljy6y'}\n",
      "{'title': 'EBOD-504 美しきボンデージボディ潜入捜査官 美竹すず', 'href': './?v=javliljvta'}\n",
      "{'title': 'PPPD-458 奇跡の肉体 スレンダー巨乳壊れそうな性交 JULIA', 'href': './?v=javliljy4i'}\n"
     ]
    }
   ],
   "source": [
    "import urllib.request\n",
    "file_path = os.path.join(os.getcwd(), 'tmp')\n",
    "print(file_path)\n",
    "if not os.path.exists(file_path):\n",
    "    os.makedirs(file_path)\n",
    "videos = page.xpath(\"//div[@class='video']\")\n",
    "for video in videos:\n",
    "    attrib = video.find(\"./a\").attrib\n",
    "    image_src = video.find(\".//img\").attrib['src']\n",
    "    print(attrib)\n",
    "    file_name = os.path.join(file_path, image_src.split('/')[-1])\n",
    "    urllib.request.urlretrieve(image_src, file_name)"
   ]
  },
  {
   "cell_type": "code",
   "execution_count": null,
   "metadata": {
    "collapsed": true
   },
   "outputs": [],
   "source": []
  }
 ],
 "metadata": {
  "kernelspec": {
   "display_name": "Python 3",
   "language": "python",
   "name": "python3"
  },
  "language_info": {
   "codemirror_mode": {
    "name": "ipython",
    "version": 3
   },
   "file_extension": ".py",
   "mimetype": "text/x-python",
   "name": "python",
   "nbconvert_exporter": "python",
   "pygments_lexer": "ipython3",
   "version": "3.5.0"
  }
 },
 "nbformat": 4,
 "nbformat_minor": 0
}
