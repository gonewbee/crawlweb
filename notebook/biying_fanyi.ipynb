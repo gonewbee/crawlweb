{
 "cells": [
  {
   "cell_type": "code",
   "execution_count": 1,
   "metadata": {
    "collapsed": true
   },
   "outputs": [],
   "source": [
    "import requests"
   ]
  },
  {
   "cell_type": "code",
   "execution_count": 2,
   "metadata": {
    "collapsed": false
   },
   "outputs": [
    {
     "name": "stdout",
     "output_type": "stream",
     "text": [
      "{'Accept': '*/*', 'Accept-Encoding': 'gzip, deflate', 'Connection': 'keep-alive', 'User-Agent': 'Mozilla/5.0 (Windows NT 6.1; WOW64) AppleWebKit/537.36 (KHTML, like Gecko) Chrome/43.0.2357.81 Safari/537.36'}\n"
     ]
    }
   ],
   "source": [
    "session = requests.session()\n",
    "headers = {'User-Agent':'Mozilla/5.0 (Windows NT 6.1; WOW64) AppleWebKit/537.36 (KHTML, like Gecko) Chrome/43.0.2357.81 Safari/537.36'}\n",
    "session.headers.update(headers)\n",
    "print(session.headers)"
   ]
  },
  {
   "cell_type": "code",
   "execution_count": 6,
   "metadata": {
    "collapsed": true
   },
   "outputs": [],
   "source": [
    "fanyi_url = 'http://www.bing.com/translator/api/Dictionary/Lookup?from=en&to=zh-CHS&text=request'"
   ]
  },
  {
   "cell_type": "code",
   "execution_count": 7,
   "metadata": {
    "collapsed": false
   },
   "outputs": [
    {
     "name": "stdout",
     "output_type": "stream",
     "text": [
      "{\r\n",
      "  \"message\": \"Service unavailable. Please try again later.\"\r\n",
      "}\n"
     ]
    }
   ],
   "source": [
    "r = session.get(fanyi_url)\n",
    "print(r.text)"
   ]
  },
  {
   "cell_type": "code",
   "execution_count": 11,
   "metadata": {
    "collapsed": false
   },
   "outputs": [],
   "source": [
    "cookies = {\n",
    "    \"destLang\":\"zh-CHS\", \n",
    "    \"dmru_list\":\"da%2Czh-CHS\", \n",
    "    \"destDia\":\"zh-CN\", \n",
    "    \"srcLang\":\"en\", \n",
    "    \"smru_list\":\"en\", \n",
    "    \"sourceDia\":\"en-US\", \n",
    "    \"SRCHD\":\"AF=NOFORM\", \n",
    "    \"SRCHUSR\":\"DOB=20160502\", \n",
    "    \"_EDGE_V\":\"1\", \n",
    "    \"MUID\":\"2696DCA3568B6D6F3B9BD5AA572A6CB8\", \n",
    "    \"_EDGE_S\":\"mkt=zh-cn&SID=2FF17396A9C761041BF27A9FA86660EE\", \n",
    "    \"SRCHHPGUSR\":\"CW=1903&CH=979&DPR=1\", \n",
    "    \"_SS=SID\":\"2FF17396A9C761041BF27A9FA86660EE&HV=1462196420&bIm=624\",\n",
    "    \"mtstkn\":\"hzeXs5uHIrN8lzBEVFdXPHq%2BKP3cXDdTebB7F0pkdX87imsS%2FPHiPpFyYJY4PtXv\", \n",
    "    \"MUIDB\":\"2696DCA3568B6D6F3B9BD5AA572A6CB8\", \n",
    "    \"SNRHOP\":\"I=&TS=\", \n",
    "    \"SRCHUID\":\"V=2&GUID=43E4B6E30A2F4F1EB4D0088100FCF614\", \n",
    "    \"WLS\":\"C=&N=\"}"
   ]
  },
  {
   "cell_type": "code",
   "execution_count": 12,
   "metadata": {
    "collapsed": false
   },
   "outputs": [
    {
     "name": "stdout",
     "output_type": "stream",
     "text": [
      "<RequestsCookieJar[<Cookie MUID=2696DCA3568B6D6F3B9BD5AA572A6CB8 for />, <Cookie MUIDB=2696DCA3568B6D6F3B9BD5AA572A6CB8 for />, <Cookie SNRHOP=I=&TS= for />, <Cookie SRCHD=AF=NOFORM for />, <Cookie SRCHHPGUSR=CW=1903&CH=979&DPR=1 for />, <Cookie SRCHUID=V=2&GUID=43E4B6E30A2F4F1EB4D0088100FCF614 for />, <Cookie SRCHUSR=DOB=20160502 for />, <Cookie WLS=C=&N= for />, <Cookie _EDGE_S=mkt=zh-cn&SID=2FF17396A9C761041BF27A9FA86660EE for />, <Cookie _EDGE_V=1 for />, <Cookie _SS=SID=2FF17396A9C761041BF27A9FA86660EE&HV=1462196420&bIm=624 for />, <Cookie destDia=zh-CN for />, <Cookie destLang=zh-CHS for />, <Cookie dmru_list=da%2Czh-CHS for />, <Cookie mtstkn=hzeXs5uHIrN8lzBEVFdXPHq%2BKP3cXDdTebB7F0pkdX87imsS%2FPHiPpFyYJY4PtXv for />, <Cookie smru_list=en for />, <Cookie sourceDia=en-US for />, <Cookie srcLang=en for />]>\n"
     ]
    }
   ],
   "source": [
    "session.cookies.update(cookies)\n",
    "print(session.cookies)"
   ]
  },
  {
   "cell_type": "code",
   "execution_count": 14,
   "metadata": {
    "collapsed": false
   },
   "outputs": [
    {
     "name": "stdout",
     "output_type": "stream",
     "text": [
      "{\r\n",
      "  \"originalText\": \"python\",\r\n",
      "  \"normalizedSource\": \"python\",\r\n",
      "  \"displaySource\": \"Python\",\r\n",
      "  \"from\": \"en\",\r\n",
      "  \"to\": \"zh-CHS\",\r\n",
      "  \"items\": [\r\n",
      "    [\r\n",
      "      {\r\n",
      "        \"normalizedTarget\": \"python\",\r\n",
      "        \"displayTarget\": \"Python\",\r\n",
      "        \"posTag\": \"NOUN\",\r\n",
      "        \"confidence\": 0.4472,\r\n",
      "        \"prefixWord\": \"\",\r\n",
      "        \"backTranslations\": [\r\n",
      "          {\r\n",
      "            \"normalizedText\": \"python\",\r\n",
      "            \"displayText\": \"Python\",\r\n",
      "            \"numExamples\": 5,\r\n",
      "            \"frequencyCount\": 247\r\n",
      "          }\r\n",
      "        ]\r\n",
      "      },\r\n",
      "      {\r\n",
      "        \"normalizedTarget\": \"巨 蟒\",\r\n",
      "        \"displayTarget\": \"巨蟒\",\r\n",
      "        \"posTag\": \"NOUN\",\r\n",
      "        \"confidence\": 0.16,\r\n",
      "        \"prefixWord\": \"\",\r\n",
      "        \"backTranslations\": [\r\n",
      "          {\r\n",
      "            \"normalizedText\": \"python\",\r\n",
      "            \"displayText\": \"Python\",\r\n",
      "            \"numExamples\": 3,\r\n",
      "            \"frequencyCount\": 17\r\n",
      "          },\r\n",
      "          {\r\n",
      "            \"normalizedText\": \"anaconda\",\r\n",
      "            \"displayText\": \"anaconda\",\r\n",
      "            \"frequencyCount\": 3\r\n",
      "          }\r\n",
      "        ]\r\n",
      "      },\r\n",
      "      {\r\n",
      "        \"normalizedTarget\": \"蟒蛇\",\r\n",
      "        \"displayTarget\": \"蟒蛇\",\r\n",
      "        \"posTag\": \"NOUN\",\r\n",
      "        \"confidence\": 0.1397,\r\n",
      "        \"prefixWord\": \"\",\r\n",
      "        \"backTranslations\": [\r\n",
      "          {\r\n",
      "            \"normalizedText\": \"python\",\r\n",
      "            \"displayText\": \"Python\",\r\n",
      "            \"numExamples\": 5,\r\n",
      "            \"frequencyCount\": 35\r\n",
      "          },\r\n",
      "          {\r\n",
      "            \"normalizedText\": \"boa\",\r\n",
      "            \"displayText\": \"boa\",\r\n",
      "            \"numExamples\": 5,\r\n",
      "            \"frequencyCount\": 11\r\n",
      "          },\r\n",
      "          {\r\n",
      "            \"normalizedText\": \"constrictors\",\r\n",
      "            \"displayText\": \"constrictors\",\r\n",
      "            \"numExamples\": 1,\r\n",
      "            \"frequencyCount\": 5\r\n",
      "          },\r\n",
      "          {\r\n",
      "            \"normalizedText\": \"anaconda\",\r\n",
      "            \"displayText\": \"anaconda\",\r\n",
      "            \"numExamples\": 1,\r\n",
      "            \"frequencyCount\": 5\r\n",
      "          }\r\n",
      "        ]\r\n",
      "      },\r\n",
      "      {\r\n",
      "        \"normalizedTarget\": \"微雕\",\r\n",
      "        \"displayTarget\": \"微雕\",\r\n",
      "        \"posTag\": \"NOUN\",\r\n",
      "        \"confidence\": 0.1323,\r\n",
      "        \"prefixWord\": \"\",\r\n",
      "        \"backTranslations\": [\r\n",
      "          {\r\n",
      "            \"normalizedText\": \"python\",\r\n",
      "            \"displayText\": \"Python\",\r\n",
      "            \"numExamples\": 5,\r\n",
      "            \"frequencyCount\": 9\r\n",
      "          }\r\n",
      "        ]\r\n",
      "      },\r\n",
      "      {\r\n",
      "        \"normalizedTarget\": \"蟒\",\r\n",
      "        \"displayTarget\": \"蟒\",\r\n",
      "        \"posTag\": \"NOUN\",\r\n",
      "        \"confidence\": 0.1208,\r\n",
      "        \"prefixWord\": \"\",\r\n",
      "        \"backTranslations\": [\r\n",
      "          {\r\n",
      "            \"normalizedText\": \"python\",\r\n",
      "            \"displayText\": \"Python\",\r\n",
      "            \"numExamples\": 4,\r\n",
      "            \"frequencyCount\": 19\r\n",
      "          },\r\n",
      "          {\r\n",
      "            \"normalizedText\": \"boa\",\r\n",
      "            \"displayText\": \"boa\",\r\n",
      "            \"numExamples\": 3,\r\n",
      "            \"frequencyCount\": 8\r\n",
      "          },\r\n",
      "          {\r\n",
      "            \"normalizedText\": \"mang\",\r\n",
      "            \"displayText\": \"mang\",\r\n",
      "            \"frequencyCount\": 6\r\n",
      "          }\r\n",
      "        ]\r\n",
      "      }\r\n",
      "    ]\r\n",
      "  ]\r\n",
      "}\n"
     ]
    }
   ],
   "source": [
    "fanyi_url = 'http://www.bing.com/translator/api/Dictionary/Lookup?from=en&to=zh-CHS&text=python'\n",
    "r = session.get(fanyi_url)\n",
    "print(r.text)"
   ]
  },
  {
   "cell_type": "code",
   "execution_count": 26,
   "metadata": {
    "collapsed": false
   },
   "outputs": [
    {
     "name": "stdout",
     "output_type": "stream",
     "text": [
      "5\n"
     ]
    }
   ],
   "source": [
    "import json\n",
    "ret = json.loads(r.text)\n",
    "print(len(ret['items'][0]))"
   ]
  },
  {
   "cell_type": "code",
   "execution_count": 27,
   "metadata": {
    "collapsed": false
   },
   "outputs": [
    {
     "name": "stdout",
     "output_type": "stream",
     "text": [
      "python\n",
      "巨 蟒\n",
      "蟒蛇\n",
      "微雕\n",
      "蟒\n"
     ]
    }
   ],
   "source": [
    "for item in ret['items'][0]:\n",
    "    print(item['normalizedTarget'])"
   ]
  },
  {
   "cell_type": "code",
   "execution_count": 32,
   "metadata": {
    "collapsed": false
   },
   "outputs": [
    {
     "name": "stdout",
     "output_type": "stream",
     "text": [
      "{\r\n",
      "  \"originalText\": \"hello world\",\r\n",
      "  \"normalizedSource\": \"hello world\",\r\n",
      "  \"displaySource\": \"hello world\",\r\n",
      "  \"from\": \"en\",\r\n",
      "  \"to\": \"zh-CHS\",\r\n",
      "  \"items\": []\r\n",
      "}\n"
     ]
    }
   ],
   "source": [
    "text = {'text': 'hello world'}\n",
    "text_encode = requests.compat.urlencode(text)\n",
    "fanyi_url = 'http://www.bing.com/translator/api/Dictionary/Lookup?from=en&to=zh-CHS&' + text_encode\n",
    "r = session.get(fanyi_url)\n",
    "print(r.text)"
   ]
  },
  {
   "cell_type": "code",
   "execution_count": null,
   "metadata": {
    "collapsed": true
   },
   "outputs": [],
   "source": []
  }
 ],
 "metadata": {
  "kernelspec": {
   "display_name": "Python 3",
   "language": "python",
   "name": "python3"
  },
  "language_info": {
   "codemirror_mode": {
    "name": "ipython",
    "version": 3
   },
   "file_extension": ".py",
   "mimetype": "text/x-python",
   "name": "python",
   "nbconvert_exporter": "python",
   "pygments_lexer": "ipython3",
   "version": "3.5.0"
  }
 },
 "nbformat": 4,
 "nbformat_minor": 0
}
